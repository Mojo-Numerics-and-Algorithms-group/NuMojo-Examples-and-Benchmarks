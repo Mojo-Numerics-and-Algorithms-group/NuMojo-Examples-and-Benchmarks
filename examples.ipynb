{
 "cells": [
  {
   "cell_type": "code",
   "execution_count": 30,
   "metadata": {},
   "outputs": [],
   "source": [
    "import numojo as nj"
   ]
  },
  {
   "cell_type": "markdown",
   "metadata": {},
   "source": [
    "# CREATING NDARRAYS "
   ]
  },
  {
   "cell_type": "markdown",
   "metadata": {},
   "source": [
    "# Default constructors"
   ]
  },
  {
   "cell_type": "code",
   "execution_count": 31,
   "metadata": {},
   "outputs": [
    {
     "name": "stdout",
     "output_type": "stream",
     "text": [
      "error: \u001b[0;1;31m\u001b[1m/Users/shivasankar/Documents/Codes/NuMojo/numojo/core/ndarray.mojo:929:9: \u001b[0m\u001b[1m@stdlib::@builtin::@builtin_slice::@Slice::@\"__copyinit__(stdlib::builtin::builtin_slice::Slice=&,stdlib::builtin::builtin_slice::Slice)_thunk\" does not reference a KGEN declaration\n",
      "\u001b[0m        var slice_list: List[Slice] = List[Slice]()\n",
      "\u001b[0;1;32m        ^\n",
      "\u001b[0m\u001b[0merror: \u001b[0;1;31m\u001b[1m/Users/shivasankar/Documents/Codes/NuMojo/numojo/core/ndarray.mojo:929:9: \u001b[0m\u001b[1m@stdlib::@builtin::@builtin_slice::@Slice::@\"__moveinit__(stdlib::builtin::builtin_slice::Slice=&,stdlib::builtin::builtin_slice::Slice)_thunk\" does not reference a KGEN declaration\n",
      "\u001b[0m        var slice_list: List[Slice] = List[Slice]()\n",
      "\u001b[0;1;32m        ^\n",
      "\u001b[0m\u001b[0m"
     ]
    },
    {
     "name": "stderr",
     "output_type": "stream",
     "text": [
      "expression failed to parse (no further compiler diagnostics)"
     ]
    }
   ],
   "source": [
    "    var x = numojo.arange[numojo.f32](0.0, 24.0, step=1)\n",
    "    x.reshape(2,3,4)\n",
    "    print(x)\n",
    "    var sliced = x[:, :, 2:3]\n",
    "    print(sliced)\n",
    "    print(sliced.ndim)\n",
    "    print(sliced.ndshape)\n",
    "    print(sliced.stride)\n",
    "    print(sliced.coefficient)\n",
    "    print(sliced[0], sliced[1], sliced[2], sliced[3], sliced[4], sliced[5])"
   ]
  },
  {
   "cell_type": "code",
   "execution_count": 8,
   "metadata": {},
   "outputs": [
    {
     "name": "stdout",
     "output_type": "stream",
     "text": [
      "\n",
      "[[[[\t0.091216377913951874\t0.63273227214813232\t0.65523189306259155\t0.081365428864955902\t0.15372735261917114\t0.61735397577285767\t]\n",
      "   [\t0.53547781705856323\t0.23360663652420044\t0.43067821860313416\t0.29360678791999817\t0.93237370252609253\t0.62965506315231323\t]\n",
      "   [\t0.52762776613235474\t0.70224082469940186\t0.49433052539825439\t0.9199758768081665\t0.73794782161712646\t0.96319013833999634\t]\n",
      "   [\t0.83173930644989014\t0.11776859313249588\t0.55226898193359375\t0.65786141157150269\t0.90346622467041016\t0.76585513353347778\t]\n",
      "   [\t0.97956925630569458\t0.50073826313018799\t0.43965974450111389\t0.87727022171020508\t0.037382226437330246\t0.058222733438014984\t]]\n",
      "  [[\t0.55828237533569336\t0.19984057545661926\t0.54650354385375977\t0.6568683385848999\t0.19570302963256836\t0.30096668004989624\t]\n",
      "   [\t0.51861476898193359\t0.71764653921127319\t0.37936848402023315\t0.61547940969467163\t0.28563946485519409\t0.74745810031890869\t]\n",
      "   [\t0.5119473934173584\t0.57675111293792725\t0.97093135118484497\t0.96347475051879883\t0.72582399845123291\t0.028322992846369743\t]\n",
      "   [\t0.76964092254638672\t0.71302318572998047\t0.48028919100761414\t0.26407870650291443\t0.26243209838867188\t0.63463234901428223\t]\n",
      "   [\t0.93838059902191162\t0.54033154249191284\t0.64102351665496826\t0.38790744543075562\t0.20980136096477509\t0.9490283727645874\t]]\n",
      "  [[\t0.91377979516983032\t0.35055312514305115\t0.27554190158843994\t0.039133064448833466\t0.64878976345062256\t0.69056904315948486\t]\n",
      "   [\t0.96261978149414062\t0.68325555324554443\t0.8668857216835022\t0.84756457805633545\t0.7700689435005188\t0.057420343160629272\t]\n",
      "   [\t0.10438442230224609\t0.40964147448539734\t0.54811525344848633\t0.85098230838775635\t0.046174097806215286\t0.96612876653671265\t]\n",
      "   [\t0.78880876302719116\t0.53689789772033691\t0.3128509521484375\t0.3772590160369873\t0.87943166494369507\t0.96959215402603149\t]\n",
      "   [\t0.73473525047302246\t0.0010920979548245668\t0.45677560567855835\t0.93850743770599365\t0.40334251523017883\t0.34650415182113647\t]]\n",
      "  [[\t0.24261090159416199\t0.7644498348236084\t0.71788913011550903\t0.51660531759262085\t0.97206419706344604\t0.86497229337692261\t]\n",
      "   [\t0.24202214181423187\t0.75266730785369873\t0.024220490828156471\t0.96080476045608521\t0.64853566884994507\t0.58849328756332397\t]\n",
      "   [\t0.27966642379760742\t0.44073697924613953\t0.86356121301651001\t0.76842695474624634\t0.27125650644302368\t0.059111077338457108\t]\n",
      "   [\t0.21661072969436646\t0.70795094966888428\t0.2932857871055603\t0.45303747057914734\t0.13002277910709381\t0.84838300943374634\t]\n",
      "   [\t0.25171005725860596\t0.28966957330703735\t0.15665306150913239\t0.012466957792639732\t0.72754955291748047\t0.37729093432426453\t]]]\n",
      " [[[\t0.10891778767108917\t0.5974695086479187\t0.53766328096389771\t0.67012745141983032\t0.46586528420448303\t0.34926325082778931\t]\n",
      "   [\t0.62612241506576538\t0.77713298797607422\t0.27362316846847534\t0.87321609258651733\t0.78027164936065674\t0.53831356763839722\t]\n",
      "   [\t0.95129740238189697\t0.47102800011634827\t0.61662197113037109\t0.88246852159500122\t0.47755470871925354\t0.059823010116815567\t]\n",
      "   [\t0.18190558254718781\t0.19985413551330566\t0.96690934896469116\t0.75142592191696167\t0.8072052001953125\t0.27535650134086609\t]\n",
      "   [\t0.75389003753662109\t0.67820799350738525\t0.10381077975034714\t0.36070385575294495\t0.073942571878433228\t0.96951842308044434\t]]\n",
      "  [[\t0.50280869007110596\t0.69465214014053345\t0.23806710541248322\t0.42459875345230103\t0.17767827212810516\t0.69812238216400146\t]\n",
      "   [\t0.17443566024303436\t0.085361316800117493\t0.86836457252502441\t0.17156632244586945\t0.14370386302471161\t0.59555196762084961\t]\n",
      "   [\t0.82010817527770996\t0.35098013281822205\t0.62663364410400391\t0.82149004936218262\t0.49738284945487976\t0.1685950756072998\t]\n",
      "   [\t0.085259310901165009\t0.17024989426136017\t0.15487787127494812\t0.84042626619338989\t0.26608607172966003\t0.44355085492134094\t]\n",
      "   [\t0.69562304019927979\t0.8129737377166748\t0.13995946943759918\t0.24682691693305969\t0.083089254796504974\t0.9472765326499939\t]]\n",
      "  [[\t0.18718156218528748\t0.48118090629577637\t0.28185215592384338\t0.66201937198638916\t0.89001601934432983\t0.34515440464019775\t]\n",
      "   [\t0.35211360454559326\t0.0056719626300036907\t0.24007245898246765\t0.90501803159713745\t0.21217153966426849\t0.077864848077297211\t]\n",
      "   [\t0.0096924128010869026\t0.82117486000061035\t0.71281719207763672\t0.62803304195404053\t0.59622830152511597\t0.47635334730148315\t]\n",
      "   [\t0.52453732490539551\t0.38106924295425415\t0.075037814676761627\t0.31029331684112549\t0.92582511901855469\t0.31426471471786499\t]\n",
      "   [\t0.74318313598632812\t0.63274502754211426\t0.013754323124885559\t0.18135429918766022\t0.23905949294567108\t0.88303929567337036\t]]\n",
      "  [[\t0.3934255838394165\t0.83062374591827393\t0.98477739095687866\t0.0067262556403875351\t0.33746433258056641\t0.38199615478515625\t]\n",
      "   [\t0.65138834714889526\t0.11337406188249588\t0.19392591714859009\t0.32929447293281555\t0.7619626522064209\t0.76104313135147095\t]\n",
      "   [\t0.62927114963531494\t0.99782222509384155\t0.83012312650680542\t0.43211320042610168\t0.033790022134780884\t0.56897515058517456\t]\n",
      "   [\t0.061445485800504684\t0.98263907432556152\t0.44233611226081848\t0.41625627875328064\t0.089915476739406586\t0.60537135601043701\t]\n",
      "   [\t0.5207485556602478\t0.50805878639221191\t0.069859564304351807\t0.4693278968334198\t0.202492356300354\t0.11360260844230652\t]]]\n",
      " [[[\t0.8648681640625\t0.4692491888999939\t0.93290567398071289\t0.083940066397190094\t0.30994436144828796\t0.69346946477890015\t]\n",
      "   [\t0.7148357629776001\t0.41786631941795349\t0.54464626312255859\t0.52609074115753174\t0.5294649600982666\t0.79868441820144653\t]\n",
      "   [\t0.007719322107732296\t0.028313051909208298\t0.24181927740573883\t0.9206463098526001\t0.41397091746330261\t0.38698253035545349\t]\n",
      "   [\t0.52807950973510742\t0.74927288293838501\t0.88076716661453247\t0.96561771631240845\t0.59084129333496094\t0.26869651675224304\t]\n",
      "   [\t0.59858191013336182\t0.77321559190750122\t0.22036582231521606\t0.46287649869918823\t0.52323228120803833\t0.96273398399353027\t]]\n",
      "  [[\t0.17036959528923035\t0.0010275533422827721\t0.19403228163719177\t0.59100329875946045\t0.69375944137573242\t0.80182600021362305\t]\n",
      "   [\t0.72521686553955078\t0.67687606811523438\t0.49364954233169556\t0.55138087272644043\t0.29796415567398071\t0.83056122064590454\t]\n",
      "   [\t0.76286333799362183\t0.25216463208198547\t0.88149100542068481\t0.19372269511222839\t0.97803395986557007\t0.11808913946151733\t]\n",
      "   [\t0.48896136879920959\t0.19654896855354309\t0.75480055809020996\t0.81994742155075073\t0.21070396900177002\t0.51179319620132446\t]\n",
      "   [\t0.74108743667602539\t0.33008274435997009\t0.43677541613578796\t0.65604239702224731\t0.90594929456710815\t0.40331971645355225\t]]\n",
      "  [[\t0.47753450274467468\t0.82159507274627686\t0.035703074187040329\t0.043136425316333771\t0.19887882471084595\t0.79805445671081543\t]\n",
      "   [\t0.0050961729139089584\t0.70173895359039307\t0.45252570509910583\t0.99899816513061523\t0.10388024896383286\t0.60688889026641846\t]\n",
      "   [\t0.23520326614379883\t0.3556465208530426\t0.56826746463775635\t0.5478331446647644\t0.49264222383499146\t0.10229633748531342\t]\n",
      "   [\t0.10856102406978607\t0.34707739949226379\t0.82351243495941162\t0.88647913932800293\t0.7073901891708374\t0.18072330951690674\t]\n",
      "   [\t0.84878271818161011\t0.23881582915782928\t0.88873291015625\t0.76819443702697754\t0.95030772686004639\t0.51358312368392944\t]]\n",
      "  [[\t0.42485150694847107\t0.26396414637565613\t0.34458586573600769\t0.45274776220321655\t0.16792388260364532\t0.09874531626701355\t]\n",
      "   [\t0.39931038022041321\t0.30125275254249573\t0.90786993503570557\t0.032213259488344193\t0.16906610131263733\t0.32253551483154297\t]\n",
      "   [\t0.085400290787220001\t0.16939033567905426\t0.92706882953643799\t0.36729547381401062\t0.29565158486366272\t0.55581361055374146\t]\n",
      "   [\t0.54837000370025635\t0.16507689654827118\t0.67386800050735474\t0.069126710295677185\t0.50628769397735596\t0.96557784080505371\t]\n",
      "   [\t0.8166695237159729\t0.43764883279800415\t0.23869428038597107\t0.54879260063171387\t0.60942971706390381\t0.74668610095977783\t]]]]\n",
      "Shape: [3, 4, 5, 6]  DType: float32\n",
      "\n",
      "ndim:  4\n",
      "shape:  Shape: [3, 4, 5, 6]\n",
      "strides:  Stride: [120, 30, 6, 1]\n",
      "size:  360\n",
      "offset:  0\n",
      "dtype:  float32\n",
      "0x15b1e3c00\n"
     ]
    }
   ],
   "source": [
    "\"\"\" \n",
    "Create a 3D array with shape [3,4,5] filled with random values and datatype float32 \n",
    "\"\"\"\n",
    "var arr1 = nj.NDArray[nj.f32](3,4,5,6, random=True) # shape is given by variadic arguments input\n",
    "print(arr1)\n",
    "print(\"ndim: \", arr1.ndim)\n",
    "print(\"shape: \", arr1.ndshape)\n",
    "print(\"strides: \", arr1.stride)\n",
    "print(\"size: \", arr1.ndshape._size)\n",
    "print(\"offset: \", arr1.stride._offset)\n",
    "print(\"dtype: \", arr1.dtype)\n",
    "print(arr1.data)"
   ]
  },
  {
   "cell_type": "code",
   "execution_count": 9,
   "metadata": {},
   "outputs": [
    {
     "name": "stdout",
     "output_type": "stream",
     "text": [
      "\n",
      "[[[\t0.56808185577392578\t0.3177284300327301\t0.16409552097320557\t0.63762253522872925\t0.2188032865524292\t]\n",
      "  [\t0.2090616375207901\t0.26755803823471069\t0.76019608974456787\t0.26762422919273376\t0.61264711618423462\t]\n",
      "  [\t0.46099281311035156\t0.87557357549667358\t0.96532326936721802\t0.709483802318573\t0.031293649226427078\t]\n",
      "  [\t0.75184261798858643\t0.90039205551147461\t0.049819480627775192\t0.9059712290763855\t0.61865377426147461\t]]\n",
      " [[\t0.75697267055511475\t0.78092420101165771\t0.50929832458496094\t0.8338630199432373\t0.74828809499740601\t]\n",
      "  [\t0.7709881067276001\t0.88079649209976196\t0.88410252332687378\t0.81101512908935547\t0.98207724094390869\t]\n",
      "  [\t0.17682795226573944\t0.46985065937042236\t0.77610146999359131\t0.92286461591720581\t0.62124186754226685\t]\n",
      "  [\t0.41213807463645935\t0.52095317840576172\t0.55189383029937744\t0.78884327411651611\t0.13855354487895966\t]]\n",
      " [[\t0.44643780589103699\t0.098566055297851562\t0.96755832433700562\t0.057584729045629501\t0.17454861104488373\t]\n",
      "  [\t0.131063312292099\t0.64167559146881104\t0.37417164444923401\t0.068300515413284302\t0.25823262333869934\t]\n",
      "  [\t0.19917060434818268\t0.79055798053741455\t0.064866445958614349\t0.55400621891021729\t0.91653001308441162\t]\n",
      "  [\t0.92707663774490356\t0.19140273332595825\t0.83354556560516357\t0.27390760183334351\t0.35302314162254333\t]]]\n",
      "Shape: [3, 4, 5]  DType: float32\n",
      "\n",
      "ndim:  3\n",
      "shape:  Shape: [3, 4, 5]\n",
      "strides:  Stride: [20, 5, 1]\n",
      "size:  60\n",
      "offset:  0\n",
      "dtype:  float32\n"
     ]
    }
   ],
   "source": [
    "\"\"\" \n",
    "Create a 3D array with shape [3,4,5] filled with random values and datatype float32 \n",
    "\"\"\"\n",
    "var arr2 = nj.NDArray[nj.f32](VariadicList[Int](3, 4, 5), random=True) # shape is defined by VariadicList of integers\n",
    "print(arr2)\n",
    "print(\"ndim: \", arr2.ndim)\n",
    "print(\"shape: \", arr2.ndshape)\n",
    "print(\"strides: \", arr2.stride)\n",
    "print(\"size: \", arr2.ndshape._size)\n",
    "print(\"offset: \", arr2.stride._offset)\n",
    "print(\"dtype: \", arr2.dtype)"
   ]
  },
  {
   "cell_type": "code",
   "execution_count": 11,
   "metadata": {},
   "outputs": [
    {
     "name": "stdout",
     "output_type": "stream",
     "text": [
      "\n",
      "[[[[\t10.0\t10.0\t10.0\t]\n",
      "   [\t10.0\t10.0\t10.0\t]\n",
      "   [\t10.0\t10.0\t10.0\t]]\n",
      "  [[\t10.0\t10.0\t10.0\t]\n",
      "   [\t10.0\t10.0\t10.0\t]\n",
      "   [\t10.0\t10.0\t10.0\t]]]\n",
      " [[[\t10.0\t10.0\t10.0\t]\n",
      "   [\t10.0\t10.0\t10.0\t]\n",
      "   [\t10.0\t10.0\t10.0\t]]\n",
      "  [[\t10.0\t10.0\t10.0\t]\n",
      "   [\t10.0\t10.0\t10.0\t]\n",
      "   [\t10.0\t10.0\t10.0\t]]]\n",
      " [[[\t10.0\t10.0\t10.0\t]\n",
      "   [\t10.0\t10.0\t10.0\t]\n",
      "   [\t10.0\t10.0\t10.0\t]]\n",
      "  [[\t10.0\t10.0\t10.0\t]\n",
      "   [\t10.0\t10.0\t10.0\t]\n",
      "   [\t10.0\t10.0\t10.0\t]]]]\n",
      "Shape: [3, 2, 3, 3]  DType: float16\n",
      "\n",
      "ndim:  4\n",
      "shape:  Shape: [3, 2, 3, 3]\n",
      "strides:  Stride: [18, 9, 3, 1]\n",
      "size:  54\n",
      "offset:  0\n",
      "dtype:  float16\n"
     ]
    }
   ],
   "source": [
    "\"\"\" \n",
    "Create a 4D array with shape [3,2,3,3] filled with `10.0` and datatype `float16`\n",
    "\"\"\"\n",
    "var arr3 = nj.NDArray[nj.f16](VariadicList[Int](3, 2, 3, 3), fill = 10.0) # shape is given by variadic arguments input\n",
    "print(arr3)\n",
    "print(\"ndim: \", arr3.ndim)\n",
    "print(\"shape: \", arr3.ndshape)\n",
    "print(\"strides: \", arr3.stride)\n",
    "print(\"size: \", arr3.ndshape._size)\n",
    "print(\"offset: \", arr3.stride._offset)\n",
    "print(\"dtype: \", arr3.dtype)"
   ]
  },
  {
   "cell_type": "code",
   "execution_count": 12,
   "metadata": {},
   "outputs": [
    {
     "name": "stdout",
     "output_type": "stream",
     "text": [
      "\n",
      "[[[\t0.38186413049697876\t0.29218596220016479\t0.88276833295822144\t0.90237224102020264\t0.54327702522277832\t]\n",
      "  [\t0.95600396394729614\t0.45792555809020996\t0.72134280204772949\t0.53596723079681396\t0.34113132953643799\t]\n",
      "  [\t0.97715437412261963\t0.3283768892288208\t0.041963808238506317\t0.2711271345615387\t0.0039602369070053101\t]\n",
      "  [\t0.20516856014728546\t0.33678311109542847\t0.010846171528100967\t0.84970378875732422\t0.35857859253883362\t]]\n",
      " [[\t0.80251193046569824\t0.22345422208309174\t0.92023348808288574\t0.3213450014591217\t0.8673478364944458\t]\n",
      "  [\t0.0093158073723316193\t0.40276780724525452\t0.63442617654800415\t0.076619692146778107\t0.32224029302597046\t]\n",
      "  [\t0.0636167973279953\t0.36806291341781616\t0.30242413282394409\t0.98943668603897095\t0.70675557851791382\t]\n",
      "  [\t0.15295973420143127\t0.57721233367919922\t0.75800859928131104\t0.92303508520126343\t0.46333944797515869\t]]\n",
      " [[\t0.063132390379905701\t0.36284139752388\t0.67144656181335449\t0.20429445803165436\t0.48094424605369568\t]\n",
      "  [\t0.32525640726089478\t0.95428264141082764\t0.046970535069704056\t0.94003462791442871\t0.76238530874252319\t]\n",
      "  [\t0.59279435873031616\t0.98946040868759155\t0.74604535102844238\t0.38747632503509521\t0.15146982669830322\t]\n",
      "  [\t0.62364673614501953\t0.93132650852203369\t0.7022748589515686\t0.5806814432144165\t0.98049324750900269\t]]]\n",
      "Shape: [3, 4, 5]  DType: float32\n",
      "\n",
      "ndim:  3\n",
      "shape:  Shape: [3, 4, 5]\n",
      "strides:  Stride: [20, 5, 1]\n",
      "size:  60\n",
      "offset:  0\n",
      "dtype:  float32\n"
     ]
    }
   ],
   "source": [
    "\"\"\"\n",
    "Create a 3D array with shape [3,4,5] filled with random values and datatype `float32` \n",
    "\"\"\"\n",
    "var arr4 = nj.NDArray[nj.f32](List[Int](3, 4, 5), random=True) # shape is given by list of integers input\n",
    "print(arr4)\n",
    "print(\"ndim: \", arr4.ndim)\n",
    "print(\"shape: \", arr4.ndshape)\n",
    "print(\"strides: \", arr4.stride)\n",
    "print(\"size: \", arr4.ndshape._size)\n",
    "print(\"offset: \", arr4.stride._offset)\n",
    "print(\"dtype: \", arr4.dtype) "
   ]
  },
  {
   "cell_type": "code",
   "execution_count": 13,
   "metadata": {},
   "outputs": [
    {
     "name": "stdout",
     "output_type": "stream",
     "text": [
      "\n",
      "[[[\t0.076783089220248374\t0.018190446511326654\t0.9781846399546722\t]\n",
      "  [\t0.85333992711148876\t0.87372144466221624\t0.099503998461576773\t]]\n",
      " [[\t0.6871423025297958\t0.75765023825754851\t0.34799735864188991\t]\n",
      "  [\t0.99468339615029677\t0.31774506950643927\t0.73402259747511833\t]]]\n",
      "Shape: [2, 2, 3]  DType: float64\n",
      "\n",
      "ndim:  3\n",
      "shape:  Shape: [2, 2, 3]\n",
      "strides:  Stride: [6, 3, 1]\n",
      "size:  12\n",
      "offset:  0\n",
      "dtype:  float64\n"
     ]
    }
   ],
   "source": [
    "\"\"\"\n",
    "Create a 3D array with shape [2,2,3] filled with random values and datatype `float64` \n",
    "\"\"\"\n",
    "# input is an instance of NDArrayShape created with variadic integer arguments\n",
    "var arr5 = nj.NDArray[nj.f64](nj.NDArrayShape(2,2,3), random=True)\n",
    "print(arr5)\n",
    "print(\"ndim: \", arr5.ndim)\n",
    "print(\"shape: \", arr5.ndshape)\n",
    "print(\"strides: \", arr5.stride)\n",
    "print(\"size: \", arr5.ndshape._size)\n",
    "print(\"offset: \", arr5.stride._offset)\n",
    "print(\"dtype: \", arr5.dtype) "
   ]
  },
  {
   "cell_type": "code",
   "execution_count": 14,
   "metadata": {},
   "outputs": [
    {
     "name": "stdout",
     "output_type": "stream",
     "text": [
      "\n",
      "[[\t1\t2\t3\t4\t5\t]\n",
      " [\t6\t7\t8\t9\t10\t]]\n",
      "Shape: [2, 5]  DType: int16\n",
      "\n",
      "ndim:  2\n",
      "shape:  Shape: [2, 5]\n",
      "strides:  Stride: [5, 1]\n",
      "size:  10\n",
      "offset:  0\n",
      "dtype:  int16\n"
     ]
    }
   ],
   "source": [
    "\"\"\"\n",
    "Create a 2D array with shape [2,5] filled with values [1,2,3,4,5,6,7,8,9,10] and datatype `int16` \n",
    "\"\"\"\n",
    "# input is a list of data to be filled and the corresponding shape\n",
    "var arr6 = nj.NDArray[nj.i16](data=List[SIMD[nj.i16, 1]](1,2,3,4,5,6,7,8,9,10), shape=\n",
    "List[Int](2,5))\n",
    "print(arr6)\n",
    "print(\"ndim: \", arr6.ndim)\n",
    "print(\"shape: \", arr6.ndshape)\n",
    "print(\"strides: \", arr6.stride)\n",
    "print(\"size: \", arr6.ndshape._size)\n",
    "print(\"offset: \", arr6.stride._offset)\n",
    "print(\"dtype: \", arr6.dtype) "
   ]
  },
  {
   "cell_type": "markdown",
   "metadata": {},
   "source": [
    "## Special array creation routines"
   ]
  },
  {
   "cell_type": "code",
   "execution_count": 15,
   "metadata": {},
   "outputs": [
    {
     "name": "stdout",
     "output_type": "stream",
     "text": [
      "\n",
      "[\t0.0\t1.0\t2.0\t...\t57.0\t58.0\t59.0\t]\n",
      "Shape: [60]  DType: float64\n",
      "\n"
     ]
    }
   ],
   "source": [
    "\"\"\"\n",
    "Create an array of 60 elements with values ranging from 0 to 59 and datatype `float32` \n",
    "\"\"\"\n",
    "var x = nj.arange[nj.f32](0.0, 60.0, step=1)\n",
    "print(x)"
   ]
  },
  {
   "cell_type": "code",
   "execution_count": 16,
   "metadata": {},
   "outputs": [
    {
     "name": "stdout",
     "output_type": "stream",
     "text": [
      "\n",
      "[\t0.0\t1.0169491767883301\t2.0338983535766602\t...\t57.966102600097656\t58.983051300048828\t60.0\t]\n",
      "Shape: [60]  DType: float32\n",
      "\n"
     ]
    }
   ],
   "source": [
    "\"\"\"\n",
    "Create an array of 60 linearly spaced values between 0 and 60 \n",
    "and input datatype `int16` and output datatype `float32` including endpoint\n",
    "\"\"\"\n",
    "var x_linspace = nj.linspace[in_dtype=nj.i16, out_dtype=nj.f32](0, 60, num=60, endpoint=True)\n",
    "print(x_linspace)"
   ]
  },
  {
   "cell_type": "code",
   "execution_count": 17,
   "metadata": {},
   "outputs": [
    {
     "name": "stdout",
     "output_type": "stream",
     "text": [
      "error: Couldn't lookup symbols:\n",
      "  exp10"
     ]
    },
    {
     "name": "stderr",
     "output_type": "stream",
     "text": [
      "expression failed to parse (no further compiler diagnostics)"
     ]
    }
   ],
   "source": [
    "\"\"\"\n",
    "Create an array of 60 logarithmic spaced values between 10^-3 and 10^0 and datatype `float32` including endpoint\n",
    "\"\"\"\n",
    "var x_logspace = nj.logspace[in_dtype=nj.f32](-3, 0, num=60, base=10.0, endpoint=True) # out_dtype defaults to float64\n",
    "print(x_logspace)"
   ]
  },
  {
   "cell_type": "code",
   "execution_count": 18,
   "metadata": {},
   "outputs": [
    {
     "name": "stdout",
     "output_type": "stream",
     "text": [
      "\n",
      "[\t1.0\t1.6681005372000588\t2.7825594022071249\t...\t35.938136638046288\t59.948425031894139\t100.00000000000007\t]\n",
      "Shape: [10]  DType: float64\n",
      "\n"
     ]
    }
   ],
   "source": [
    "\"\"\"\n",
    "Create an array of 60 geometric spaced values between 10^-3 and 10^0 and datatype `float32` including endpoint\n",
    "\"\"\"\n",
    "var x_geomspace = nj.geomspace[in_dtype=nj.f32](1, 100, num=10, endpoint=True) # out_dtype defaults to float64\n",
    "print(x_geomspace)"
   ]
  },
  {
   "cell_type": "code",
   "execution_count": 19,
   "metadata": {},
   "outputs": [
    {
     "name": "stdout",
     "output_type": "stream",
     "text": [
      "\n",
      "[[\t1.0\t1.0\t]\n",
      " [\t1.0\t1.0\t]\n",
      " [\t1.0\t1.0\t]]\n",
      "Shape: [3, 2]  DType: float32\n",
      "\n"
     ]
    }
   ],
   "source": [
    "\"\"\"\n",
    "Create an array of ones with shape [3,2] and datatype `float32` \n",
    "\"\"\"\n",
    "var x = numojo.ones[numojo.f32](3, 2)\n",
    "print(x)"
   ]
  },
  {
   "cell_type": "code",
   "execution_count": 20,
   "metadata": {},
   "outputs": [
    {
     "name": "stdout",
     "output_type": "stream",
     "text": [
      "\n",
      "[[\t1.0\t0.0\t0.0\t]\n",
      " [\t0.0\t1.0\t0.0\t]\n",
      " [\t0.0\t0.0\t1.0\t]]\n",
      "Shape: [3, 3]  DType: float32\n",
      "\n"
     ]
    }
   ],
   "source": [
    "\"\"\"\n",
    "Create an array of identity matrix with shape [3,3] and datatype `float32` \n",
    "\"\"\"\n",
    "var x = numojo.identity[numojo.f32](3)\n",
    "print(x)"
   ]
  },
  {
   "cell_type": "code",
   "execution_count": 21,
   "metadata": {},
   "outputs": [
    {
     "name": "stdout",
     "output_type": "stream",
     "text": [
      "\n",
      "[[\t1.0\t0.0\t0.0\t0.0\t]\n",
      " [\t0.0\t1.0\t0.0\t0.0\t]\n",
      " [\t0.0\t0.0\t1.0\t0.0\t]]\n",
      "Shape: [3, 4]  DType: float32\n",
      "\n"
     ]
    }
   ],
   "source": [
    "\"\"\"\n",
    "Create an array of identity matrix with shape [3,3] and datatype `float32` \n",
    "\"\"\"\n",
    "var x = numojo.eye[numojo.f32](3, 4)\n",
    "print(x)"
   ]
  },
  {
   "cell_type": "code",
   "execution_count": 22,
   "metadata": {},
   "outputs": [
    {
     "name": "stdout",
     "output_type": "stream",
     "text": [
      "\n",
      "[[\t0.0\t0.0\t0.0\t0.0\t]\n",
      " [\t0.0\t0.0\t0.0\t0.0\t]\n",
      " [\t0.0\t0.0\t0.0\t0.0\t]]\n",
      "Shape: [3, 4]  DType: float32\n",
      "\n"
     ]
    }
   ],
   "source": [
    "\"\"\"\n",
    "Create an array of zeros with shape [3,4] and datatype `float32` \n",
    "\"\"\"\n",
    "var x = numojo.zeros[numojo.f32](3, 4)\n",
    "# var x = numojo.empty[numojo.f32](3, 4) # does the same as zeros\n",
    "print(x)"
   ]
  },
  {
   "cell_type": "code",
   "execution_count": 23,
   "metadata": {},
   "outputs": [
    {
     "name": "stdout",
     "output_type": "stream",
     "text": [
      "\n",
      "[[\t16.0\t16.0\t]\n",
      " [\t16.0\t16.0\t]\n",
      " [\t16.0\t16.0\t]]\n",
      "Shape: [3, 2]  DType: float32\n",
      "\n"
     ]
    }
   ],
   "source": [
    "\"\"\"\n",
    "Create an array of shape [3,2] filled with value `16` and datatype `float32` \n",
    "\"\"\"\n",
    "var x = numojo.full[numojo.f32](3, 2, fill_value=16.0)\n",
    "print(x)"
   ]
  },
  {
   "cell_type": "markdown",
   "metadata": {},
   "source": [
    "# ARRAY MANIPULATION ROUTINES"
   ]
  },
  {
   "cell_type": "code",
   "execution_count": 25,
   "metadata": {},
   "outputs": [
    {
     "name": "stdout",
     "output_type": "stream",
     "text": [
      "\n",
      "[\t0.0\t1.0\t2.0\t...\t57.0\t58.0\t59.0\t]\n",
      "Shape: [60]  DType: float32\n",
      "\n",
      "\n",
      "[[[\t0.0\t1.0\t2.0\t3.0\t4.0\t]\n",
      "  [\t5.0\t6.0\t7.0\t8.0\t9.0\t]\n",
      "  [\t10.0\t11.0\t12.0\t13.0\t14.0\t]\n",
      "  [\t15.0\t16.0\t17.0\t18.0\t19.0\t]]\n",
      " [[\t20.0\t21.0\t22.0\t23.0\t24.0\t]\n",
      "  [\t25.0\t26.0\t27.0\t28.0\t29.0\t]\n",
      "  [\t30.0\t31.0\t32.0\t33.0\t34.0\t]\n",
      "  [\t35.0\t36.0\t37.0\t38.0\t39.0\t]]\n",
      " [[\t40.0\t41.0\t42.0\t43.0\t44.0\t]\n",
      "  [\t45.0\t46.0\t47.0\t48.0\t49.0\t]\n",
      "  [\t50.0\t51.0\t52.0\t53.0\t54.0\t]\n",
      "  [\t55.0\t56.0\t57.0\t58.0\t59.0\t]]]\n",
      "Shape: [3, 4, 5]  DType: float32\n",
      "\n",
      "\n",
      "[[[\t0.0\t12.0\t24.0\t36.0\t48.0\t]\n",
      "  [\t3.0\t15.0\t27.0\t39.0\t51.0\t]\n",
      "  [\t6.0\t18.0\t30.0\t42.0\t54.0\t]\n",
      "  [\t9.0\t21.0\t33.0\t45.0\t57.0\t]]\n",
      " [[\t1.0\t13.0\t25.0\t37.0\t49.0\t]\n",
      "  [\t4.0\t16.0\t28.0\t40.0\t52.0\t]\n",
      "  [\t7.0\t19.0\t31.0\t43.0\t55.0\t]\n",
      "  [\t10.0\t22.0\t34.0\t46.0\t58.0\t]]\n",
      " [[\t2.0\t14.0\t26.0\t38.0\t50.0\t]\n",
      "  [\t5.0\t17.0\t29.0\t41.0\t53.0\t]\n",
      "  [\t8.0\t20.0\t32.0\t44.0\t56.0\t]\n",
      "  [\t11.0\t23.0\t35.0\t47.0\t59.0\t]]]\n",
      "Shape: [3, 4, 5]  DType: float32\n",
      "\n"
     ]
    }
   ],
   "source": [
    "var array = nj.arange[in_dtype=nj.i16, out_dtype=nj.f32](0, 60, step=1)\n",
    "print(array)\n",
    "array.reshape(3, 4, 5)\n",
    "print(array)\n",
    "array.reshape(3, 4, 5, order=\"F\")\n",
    "print(array)"
   ]
  },
  {
   "cell_type": "markdown",
   "metadata": {},
   "source": [
    "# ARITHMETICS"
   ]
  },
  {
   "cell_type": "code",
   "execution_count": 26,
   "metadata": {},
   "outputs": [
    {
     "name": "stdout",
     "output_type": "stream",
     "text": [
      "\n",
      "[[\t0.46389073133468628\t1.6226290464401245\t]\n",
      " [\t0.78226041793823242\t1.4418559074401855\t]\n",
      " [\t1.2605403661727905\t1.0310252904891968\t]]\n",
      "Shape: [3, 2]  DType: float32\n",
      "\n",
      "\n",
      "[[\t0.050479453057050705\t0.65485882759094238\t]\n",
      " [\t0.15231844782829285\t0.49936747550964355\t]\n",
      " [\t0.36776080727577209\t0.03698093444108963\t]]\n",
      "Shape: [3, 2]  DType: float32\n",
      "\n",
      "\n",
      "[[\t0.60206598043441772\t1.1541932821273804\t]\n",
      " [\t1.1410988569259644\t1.49367356300354\t]\n",
      " [\t0.57181131839752197\t0.037442732602357864\t]]\n",
      "Shape: [3, 2]  DType: float32\n",
      "\n",
      "\n",
      "[[\t0.98484247922897339\t0.64529496431350708\t]\n",
      " [\t0.91434627771377563\t0.64966672658920288\t]\n",
      " [\t0.89668482542037964\t0.99930775165557861\t]]\n",
      "Shape: [3, 2]  DType: float32\n",
      "\n"
     ]
    }
   ],
   "source": [
    "var x1 = nj.NDArray[nj.f32](3, 2, random=True)\n",
    "var x2 = nj.NDArray[nj.f32](3, 2, random=True)\n",
    "var sum_x1_x2 = nj.add[nj.f32, backend=nj.Vectorized](x1, x2)\n",
    "# var sum_x1_x2 = x1 + x2 # does the same but with vectorized as default\n",
    "print(sum_x1_x2)\n",
    "\n",
    "var mul_x1_x2 = nj.mul[nj.f32, backend=nj.VectorizedParallelized](x1, x2)\n",
    "# var mul_x1_x2 = x1 * x2 # does the same but with vectorized as default\n",
    "print(mul_x1_x2)\n",
    "\n",
    "var div_x1_x2 = nj.div[nj.f32, backend=nj.VectorizedUnroll[1]](x1, x2) # unroll factor is 1 here\n",
    "# var div_x1_x2 = x1 / x2 # does the same but with vectorized as default\n",
    "print(div_x1_x2)\n",
    "\n",
    "var cos_x1 = nj.cos[nj.f32, backend=nj.Vectorized](x1)\n",
    "print(cos_x1)"
   ]
  },
  {
   "cell_type": "markdown",
   "metadata": {},
   "source": [
    "# STATISTICS"
   ]
  },
  {
   "cell_type": "code",
   "execution_count": 28,
   "metadata": {},
   "outputs": [
    {
     "name": "stdout",
     "output_type": "stream",
     "text": [
      "\n",
      "[[\t1.0\t2.0\t3.0\t4.0\t5.0\t]\n",
      " [\t6.0\t7.0\t8.0\t9.0\t10.0\t]\n",
      " [\t11.0\t12.0\t13.0\t14.0\t15.0\t]\n",
      " [\t16.0\t17.0\t18.0\t19.0\t20.0\t]]\n",
      "Shape: [4, 5]  DType: float32\n",
      "\n",
      "cumulative sum:  210.0\n",
      "simd_data:  24.0\n",
      "simd_data:  1680.0\n",
      "simd_data:  11880.0\n",
      "simd_data:  43680.0\n",
      "simd_data:  116280.0\n",
      "cumulative product:  2.43290200817664e+18\n",
      "cumulative mean:  10.5\n",
      "cumulative var:  35.0\n",
      "cumulative std:  5.9160797830996161\n",
      "cumulative var:  33.25\n",
      "cumulative pstdev:  5.7662812973353983\n"
     ]
    }
   ],
   "source": [
    "var array_stats = nj.arange[in_dtype=nj.i16, out_dtype=nj.f32](1, 21, step=1)\n",
    "array_stats.reshape(4, 5)\n",
    "print(array_stats)\n",
    "\n",
    "var cumsum_array_stats = nj.math.statistics.cumsum[in_dtype=nj.f32, out_dtype=nj.f32](array_stats) # cumulative sum of the flattened array\n",
    "print(\"cumulative sum: \", cumsum_array_stats)\n",
    "\n",
    "var cumprod_array_stats = nj.math.statistics.cumprod[in_dtype=nj.f32, out_dtype=nj.f64](array_stats) # cumulative product of the flattened array\n",
    "print(\"cumulative product: \", cumprod_array_stats)\n",
    "\n",
    "var cummean_array_stats = nj.math.statistics.cummean[in_dtype=nj.f32, out_dtype=nj.f64](array_stats) # cumulative mean of the flattened array\n",
    "print(\"cumulative mean: \", cummean_array_stats)\n",
    "\n",
    "var cumvar_array_stats = nj.math.statistics.cumvariance[in_dtype=nj.f32, out_dtype=nj.f64](array_stats) # cumulative variance of the flattened array\n",
    "print(\"cumulative var: \", cumvar_array_stats)\n",
    "\n",
    "var cumstd_array_stats = nj.math.statistics.cumstdev[in_dtype=nj.f32, out_dtype=nj.f64](array_stats) # cumulative standard deviation of the flattened array\n",
    "print(\"cumulative std: \", cumstd_array_stats)\n",
    "\n",
    "var cumprodvar_array_stats = nj.math.statistics.cumpvariance[in_dtype=nj.f32, out_dtype=nj.f64](array_stats) # cumulative product variance of the flattened array\n",
    "print(\"cumulative var: \", cumprodvar_array_stats)\n",
    "\n",
    "var pstdev_array_stats = nj.math.statistics.cumpstdev[in_dtype=nj.f32, out_dtype=nj.f64](array_stats) # product standard deviation of the flattened array\n",
    "print(\"cumulative pstdev: \", pstdev_array_stats)"
   ]
  },
  {
   "cell_type": "code",
   "execution_count": null,
   "metadata": {},
   "outputs": [],
   "source": []
  }
 ],
 "metadata": {
  "kernelspec": {
   "display_name": "Mojo",
   "language": "mojo",
   "name": "mojo-jupyter-kernel"
  },
  "language_info": {
   "codemirror_mode": {
    "name": "mojo"
   },
   "file_extension": ".mojo",
   "mimetype": "text/x-mojo",
   "name": "mojo"
  }
 },
 "nbformat": 4,
 "nbformat_minor": 2
}
