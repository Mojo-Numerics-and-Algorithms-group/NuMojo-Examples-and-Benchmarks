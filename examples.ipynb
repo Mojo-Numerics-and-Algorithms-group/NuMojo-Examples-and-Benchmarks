{
 "cells": [
  {
   "cell_type": "code",
   "execution_count": 1,
   "metadata": {},
   "outputs": [],
   "source": [
    "from numojo import *"
   ]
  },
  {
   "cell_type": "markdown",
   "metadata": {},
   "source": [
    "# CREATING NDARRAYS "
   ]
  },
  {
   "cell_type": "code",
   "execution_count": 4,
   "metadata": {},
   "outputs": [
    {
     "name": "stdout",
     "output_type": "stream",
     "text": [
      "\n",
      "[[[\t0.25572824478149414\t0.99397772550582886\t0.69876140356063843\t0.84735095500946045\t0.069381296634674072\t]\n",
      "  [\t0.19178609549999237\t0.0081466278061270714\t0.43965303897857666\t0.38961315155029297\t0.13565701246261597\t]\n",
      "  [\t0.24923117458820343\t0.46139180660247803\t0.69838911294937134\t0.20685668289661407\t0.18226176500320435\t]\n",
      "  [\t0.39439275860786438\t0.14246232807636261\t0.71565151214599609\t0.4731195867061615\t0.36171996593475342\t]]\n",
      " [[\t0.0003100007597822696\t0.97210872173309326\t0.24259711802005768\t0.65427970886230469\t0.94020050764083862\t]\n",
      "  [\t0.59625697135925293\t0.90385770797729492\t0.33153152465820312\t0.30404329299926758\t0.67539781332015991\t]\n",
      "  [\t0.4497845470905304\t0.40903237462043762\t0.61830514669418335\t0.74450546503067017\t0.047344740480184555\t]\n",
      "  [\t0.676036536693573\t0.018197929486632347\t0.53467482328414917\t0.93817383050918579\t0.37804445624351501\t]]\n",
      " [[\t0.49231055378913879\t0.67575085163116455\t0.78418821096420288\t0.89368164539337158\t0.72711867094039917\t]\n",
      "  [\t0.32151439785957336\t0.14523701369762421\t0.23718279600143433\t0.2119230329990387\t0.21550330519676208\t]\n",
      "  [\t0.57817667722702026\t0.75281596183776855\t0.79023486375808716\t0.13343822956085205\t0.38045492768287659\t]\n",
      "  [\t0.37354955077171326\t0.30452218651771545\t0.64479899406433105\t0.82267773151397705\t0.78278756141662598\t]]]\n",
      "Shape: [3, 4, 5]  DType: float32\n",
      "\n",
      "ndim:  3\n",
      "shape:  Shape: [3, 4, 5]\n",
      "strides:  Stride: [20, 5, 1]\n",
      "size:  60\n",
      "offset:  0\n",
      "dtype:  float32\n"
     ]
    }
   ],
   "source": [
    "\"\"\" \n",
    "Create a 3D array with shape [3,4,5] filled with random values and datatype float32 \n",
    "\"\"\"\n",
    "var arr1 = numojo.NDArray[numojo.f32](3,4,5, random=True) # shape is given by variadic arguments input\n",
    "print(arr1)\n",
    "print(\"ndim: \", arr1.ndim)\n",
    "print(\"shape: \", arr1.ndshape)\n",
    "print(\"strides: \", arr1.stride)\n",
    "print(\"size: \", arr1.ndshape._size)\n",
    "print(\"offset: \", arr1.stride._offset)\n",
    "print(\"dtype: \", arr1.dtype)"
   ]
  },
  {
   "cell_type": "code",
   "execution_count": 3,
   "metadata": {},
   "outputs": [
    {
     "name": "stdout",
     "output_type": "stream",
     "text": [
      "\n",
      "[[[\t0.17365221679210663\t0.75149452686309814\t0.82491689920425415\t0.75309592485427856\t0.31904929876327515\t]\n",
      "  [\t0.53255122900009155\t0.14755412936210632\t0.79262810945510864\t0.91253101825714111\t0.79438114166259766\t]\n",
      "  [\t0.0094084003940224648\t0.51005285978317261\t0.29559364914894104\t0.55991894006729126\t0.50417250394821167\t]\n",
      "  [\t0.31001624464988708\t0.98257887363433838\t0.96445530652999878\t0.44856360554695129\t0.30351385474205017\t]]\n",
      " [[\t0.056208405643701553\t0.80191910266876221\t0.98381251096725464\t0.051062576472759247\t0.23980344831943512\t]\n",
      "  [\t0.10469949245452881\t0.53479683399200439\t0.52140694856643677\t0.32997947931289673\t0.31763806939125061\t]\n",
      "  [\t0.97785842418670654\t0.73508656024932861\t0.95361673831939697\t0.049468204379081726\t0.57253801822662354\t]\n",
      "  [\t0.060845408588647842\t0.81162852048873901\t0.97918641567230225\t0.22582536935806274\t0.40636950731277466\t]]\n",
      " [[\t0.61904627084732056\t0.75455629825592041\t0.91598820686340332\t0.036492243409156799\t0.83057600259780884\t]\n",
      "  [\t0.90364283323287964\t0.1759922057390213\t0.56678283214569092\t0.32818183302879333\t0.39456924796104431\t]\n",
      "  [\t0.46455198526382446\t0.18326835334300995\t0.25749969482421875\t0.61054915189743042\t0.19650378823280334\t]\n",
      "  [\t0.14129260182380676\t0.66934406757354736\t0.80183345079421997\t0.15589584410190582\t0.47142800688743591\t]]]\n",
      "Shape: [3, 4, 5]  DType: float32\n",
      "\n",
      "ndim:  3\n",
      "shape:  Shape: [3, 4, 5]\n",
      "strides:  Stride: [20, 5, 1]\n",
      "size:  60\n",
      "offset:  0\n",
      "dtype:  float32\n"
     ]
    }
   ],
   "source": [
    "\"\"\" Create an 3D array with shape [3,4,5] filled with random values and datatype float32 \"\"\"\n",
    "var arr2 = numojo.NDArray[numojo.f32](VariadicList[Int](3, 4, 5), random=True) # shape is defined by VariadicList of integers\n",
    "print(arr2)\n",
    "print(\"ndim: \", arr2.ndim)\n",
    "print(\"shape: \", arr2.ndshape)\n",
    "print(\"strides: \", arr2.stride)\n",
    "print(\"size: \", arr2.ndshape._size)\n",
    "print(\"offset: \", arr2.stride._offset)\n",
    "print(\"dtype: \", arr2.dtype)"
   ]
  },
  {
   "cell_type": "code",
   "execution_count": null,
   "metadata": {},
   "outputs": [],
   "source": [
    "\"\"\" Create an 3D array with shape [3,4,5] filled with 10.0 values and datatype float32 \"\"\"\n",
    "var arr3 = numojo.NDArray[numojo.f32](VariadicList[Int](3, 4, 5), val = 10.0)\n",
    "print(arr3)\n",
    "print(\"ndim: \", arr3.ndim)\n",
    "print(\"shape: \", arr3.ndshape)\n",
    "print(\"strides: \", arr3.stride)\n",
    "print(\"size: \", arr3.ndshape._size)\n",
    "print(\"offset: \", arr3.stride._offset)\n",
    "print(\"dtype: \", arr3.dtype)"
   ]
  }
 ],
 "metadata": {
  "kernelspec": {
   "display_name": "Mojo",
   "language": "mojo",
   "name": "mojo-jupyter-kernel"
  },
  "language_info": {
   "codemirror_mode": {
    "name": "mojo"
   },
   "file_extension": ".mojo",
   "mimetype": "text/x-mojo",
   "name": "mojo"
  }
 },
 "nbformat": 4,
 "nbformat_minor": 2
}
