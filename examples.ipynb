{
 "cells": [
  {
   "cell_type": "code",
   "execution_count": 2,
   "metadata": {},
   "outputs": [],
   "source": [
    "import numojo as nj"
   ]
  },
  {
   "cell_type": "markdown",
   "metadata": {},
   "source": [
    "# CREATING NDARRAYS "
   ]
  },
  {
   "cell_type": "markdown",
   "metadata": {},
   "source": [
    "# Default constructors"
   ]
  },
  {
   "cell_type": "code",
   "execution_count": 3,
   "metadata": {},
   "outputs": [
    {
     "name": "stdout",
     "output_type": "stream",
     "text": [
      "\n",
      "[[[[\t0.085032448172569275\t0.89161127805709839\t0.18968977034091949\t0.39800837635993958\t0.74351245164871216\t0.5603899359703064\t]\n",
      "   [\t0.8095666766166687\t0.51171255111694336\t0.99508452415466309\t0.96661138534545898\t0.42605084180831909\t0.65299874544143677\t]\n",
      "   [\t0.96153312921524048\t0.85798734426498413\t0.29402613639831543\t0.41464456915855408\t0.51489287614822388\t0.78978455066680908\t]\n",
      "   [\t0.544272780418396\t0.093629911541938782\t0.43225952982902527\t0.84492743015289307\t0.77284646034240723\t0.19185894727706909\t]\n",
      "   [\t0.78036677837371826\t0.18134318292140961\t0.57914149761199951\t0.31413143873214722\t0.41198459267616272\t0.9923054575920105\t]]\n",
      "  [[\t0.16392241418361664\t0.33484816551208496\t0.076218202710151672\t0.17452387511730194\t0.037299912422895432\t0.46741479635238647\t]\n",
      "   [\t0.67411267757415771\t0.066703252494335175\t0.38978248834609985\t0.16539865732192993\t0.99080425500869751\t0.8706391453742981\t]\n",
      "   [\t0.67265260219573975\t0.58770591020584106\t0.25501438975334167\t0.59304547309875488\t0.27172005176544189\t0.2704811692237854\t]\n",
      "   [\t0.095930226147174835\t0.63255631923675537\t0.15127278864383698\t0.94886249303817749\t0.042604252696037292\t0.73508906364440918\t]\n",
      "   [\t0.46549704670906067\t0.22253954410552979\t0.57148420810699463\t0.60456943511962891\t0.69800180196762085\t0.66468566656112671\t]]\n",
      "  [[\t0.17365221679210663\t0.75149452686309814\t0.82491689920425415\t0.75309592485427856\t0.31904929876327515\t0.53255122900009155\t]\n",
      "   [\t0.14755412936210632\t0.79262810945510864\t0.91253101825714111\t0.79438114166259766\t0.0094084003940224648\t0.51005285978317261\t]\n",
      "   [\t0.29559364914894104\t0.55991894006729126\t0.50417250394821167\t0.31001624464988708\t0.98257887363433838\t0.96445530652999878\t]\n",
      "   [\t0.44856360554695129\t0.30351385474205017\t0.056208405643701553\t0.80191910266876221\t0.98381251096725464\t0.051062576472759247\t]\n",
      "   [\t0.23980344831943512\t0.10469949245452881\t0.53479683399200439\t0.52140694856643677\t0.32997947931289673\t0.31763806939125061\t]]\n",
      "  [[\t0.97785842418670654\t0.73508656024932861\t0.95361673831939697\t0.049468204379081726\t0.57253801822662354\t0.060845408588647842\t]\n",
      "   [\t0.81162852048873901\t0.97918641567230225\t0.22582536935806274\t0.40636950731277466\t0.61904627084732056\t0.75455629825592041\t]\n",
      "   [\t0.91598820686340332\t0.036492243409156799\t0.83057600259780884\t0.90364283323287964\t0.1759922057390213\t0.56678283214569092\t]\n",
      "   [\t0.32818183302879333\t0.39456924796104431\t0.46455198526382446\t0.18326835334300995\t0.25749969482421875\t0.61054915189743042\t]\n",
      "   [\t0.19650378823280334\t0.14129260182380676\t0.66934406757354736\t0.80183345079421997\t0.15589584410190582\t0.47142800688743591\t]]]\n",
      " [[[\t0.25572824478149414\t0.99397772550582886\t0.69876140356063843\t0.84735095500946045\t0.069381296634674072\t0.19178609549999237\t]\n",
      "   [\t0.0081466278061270714\t0.43965303897857666\t0.38961315155029297\t0.13565701246261597\t0.24923117458820343\t0.46139180660247803\t]\n",
      "   [\t0.69838911294937134\t0.20685668289661407\t0.18226176500320435\t0.39439275860786438\t0.14246232807636261\t0.71565151214599609\t]\n",
      "   [\t0.4731195867061615\t0.36171996593475342\t0.0003100007597822696\t0.97210872173309326\t0.24259711802005768\t0.65427970886230469\t]\n",
      "   [\t0.94020050764083862\t0.59625697135925293\t0.90385770797729492\t0.33153152465820312\t0.30404329299926758\t0.67539781332015991\t]]\n",
      "  [[\t0.4497845470905304\t0.40903237462043762\t0.61830514669418335\t0.74450546503067017\t0.047344740480184555\t0.676036536693573\t]\n",
      "   [\t0.018197929486632347\t0.53467482328414917\t0.93817383050918579\t0.37804445624351501\t0.49231055378913879\t0.67575085163116455\t]\n",
      "   [\t0.78418821096420288\t0.89368164539337158\t0.72711867094039917\t0.32151439785957336\t0.14523701369762421\t0.23718279600143433\t]\n",
      "   [\t0.2119230329990387\t0.21550330519676208\t0.57817667722702026\t0.75281596183776855\t0.79023486375808716\t0.13343822956085205\t]\n",
      "   [\t0.38045492768287659\t0.37354955077171326\t0.30452218651771545\t0.64479899406433105\t0.82267773151397705\t0.78278756141662598\t]]\n",
      "  [[\t0.52438092231750488\t0.20916010439395905\t0.63402676582336426\t0.63956749439239502\t0.73894619941711426\t0.68035441637039185\t]\n",
      "   [\t0.39940604567527771\t0.0070855980738997459\t0.26285183429718018\t0.86390089988708496\t0.64420098066329956\t0.62437844276428223\t]\n",
      "   [\t0.62603449821472168\t0.58956652879714966\t0.96650534868240356\t0.6154634952545166\t0.46827998757362366\t0.62101662158966064\t]\n",
      "   [\t0.15879407525062561\t0.14249582588672638\t0.86501044034957886\t0.09678109735250473\t0.45421537756919861\t0.32574775815010071\t]\n",
      "   [\t0.51435929536819458\t0.13365018367767334\t0.069747492671012878\t0.029532939195632935\t0.98354840278625488\t0.95869898796081543\t]]\n",
      "  [[\t0.0020161645952612162\t0.37944003939628601\t0.40573868155479431\t0.20097038149833679\t0.35617303848266602\t0.73464971780776978\t]\n",
      "   [\t0.62521690130233765\t0.35678815841674805\t0.11711274832487106\t0.66044098138809204\t0.85267066955566406\t0.17316935956478119\t]\n",
      "   [\t0.17981542646884918\t0.63366115093231201\t0.48024043440818787\t0.43129643797874451\t0.7539982795715332\t0.028934646397829056\t]\n",
      "   [\t0.082045197486877441\t0.60801947116851807\t0.65123975276947021\t0.85407954454421997\t0.27669012546539307\t0.65093308687210083\t]\n",
      "   [\t0.071350984275341034\t0.1423473060131073\t0.12587530910968781\t0.94573837518692017\t0.93652772903442383\t0.91846978664398193\t]]]\n",
      " [[[\t0.11414323002099991\t0.73225295543670654\t0.73876148462295532\t0.49823346734046936\t0.68834811449050903\t0.73025894165039062\t]\n",
      "   [\t0.90737557411193848\t0.88355356454849243\t0.80509740114212036\t0.86696934700012207\t0.42033341526985168\t0.48059782385826111\t]\n",
      "   [\t0.77137100696563721\t0.21687760949134827\t0.015398771502077579\t0.89807087182998657\t0.59320515394210815\t0.0855107381939888\t]\n",
      "   [\t0.16567818820476532\t0.28976553678512573\t0.98737722635269165\t0.92516171932220459\t0.83906733989715576\t0.83156776428222656\t]\n",
      "   [\t0.18389351665973663\t0.65712976455688477\t0.22219789028167725\t0.38935887813568115\t0.70086121559143066\t0.054657168686389923\t]]\n",
      "  [[\t0.86048269271850586\t0.67577648162841797\t0.67083805799484253\t0.010597423650324345\t0.045955430716276169\t0.66336792707443237\t]\n",
      "   [\t0.94081825017929077\t0.30663582682609558\t0.95185071229934692\t0.1086578369140625\t0.93338412046432495\t0.37446153163909912\t]\n",
      "   [\t0.14880090951919556\t0.24332776665687561\t0.39344605803489685\t0.15643911063671112\t0.38429206609725952\t0.97530031204223633\t]\n",
      "   [\t0.82604128122329712\t0.31911635398864746\t0.18483850359916687\t0.47211763262748718\t0.84349381923675537\t0.34432923793792725\t]\n",
      "   [\t0.66525191068649292\t0.43440663814544678\t0.39332029223442078\t0.76263934373855591\t0.79380214214324951\t0.94110500812530518\t]]\n",
      "  [[\t0.51657652854919434\t0.96323221921920776\t0.19377903640270233\t0.32954257726669312\t0.54067164659500122\t0.89980119466781616\t]\n",
      "   [\t0.20156152546405792\t0.4789978563785553\t0.80322319269180298\t0.82357984781265259\t0.28923898935317993\t0.94680619239807129\t]\n",
      "   [\t0.13805989921092987\t0.71716570854187012\t0.76696109771728516\t0.21982485055923462\t0.1612846702337265\t0.11170732229948044\t]\n",
      "   [\t0.88883644342422485\t0.65170395374298096\t0.92042410373687744\t0.92923963069915771\t0.48556220531463623\t0.56896400451660156\t]\n",
      "   [\t0.14643014967441559\t0.73889744281768799\t0.89182579517364502\t0.3839128315448761\t0.038523148745298386\t0.25232347846031189\t]]\n",
      "  [[\t0.83080244064331055\t0.76544880867004395\t0.47051748633384705\t0.92353451251983643\t0.40452665090560913\t0.89201521873474121\t]\n",
      "   [\t0.60808867216110229\t0.29964268207550049\t0.41236037015914917\t0.71282321214675903\t0.6077951192855835\t0.47970855236053467\t]\n",
      "   [\t0.30324169993400574\t0.16104690730571747\t0.45814222097396851\t0.27915048599243164\t0.86451971530914307\t0.43940755724906921\t]\n",
      "   [\t0.72797638177871704\t0.82777464389801025\t0.026250503957271576\t0.20528231561183929\t0.57365459203720093\t0.16327778995037079\t]\n",
      "   [\t0.40530413389205933\t0.23569519817829132\t0.48524618148803711\t0.63748258352279663\t0.71968811750411987\t0.53400665521621704\t]]]]\n",
      "Shape: [3, 4, 5, 6]  DType: float32\n",
      "\n",
      "ndim:  4\n",
      "shape:  Shape: [3, 4, 5, 6]\n",
      "strides:  Stride: [120, 30, 6, 1]\n",
      "size:  360\n",
      "offset:  0\n",
      "dtype:  float32\n",
      "0x14c1cec00\n"
     ]
    }
   ],
   "source": [
    "\"\"\" \n",
    "Create a 3D array with shape [3,4,5] filled with random values and datatype float32 \n",
    "\"\"\"\n",
    "var arr1 = nj.NDArray[nj.f32](3,4,5,6, random=True) # shape is given by variadic arguments input\n",
    "print(arr1)\n",
    "print(\"ndim: \", arr1.ndim)\n",
    "print(\"shape: \", arr1.ndshape)\n",
    "print(\"strides: \", arr1.stride)\n",
    "print(\"size: \", arr1.ndshape._size)\n",
    "print(\"offset: \", arr1.stride._offset)\n",
    "print(\"dtype: \", arr1.dtype)\n",
    "print(arr1.data)"
   ]
  },
  {
   "cell_type": "code",
   "execution_count": 3,
   "metadata": {},
   "outputs": [
    {
     "name": "stdout",
     "output_type": "stream",
     "text": [
      "\n",
      "[[[\t0.17365221679210663\t0.75149452686309814\t0.82491689920425415\t0.75309592485427856\t0.31904929876327515\t]\n",
      "  [\t0.53255122900009155\t0.14755412936210632\t0.79262810945510864\t0.91253101825714111\t0.79438114166259766\t]\n",
      "  [\t0.0094084003940224648\t0.51005285978317261\t0.29559364914894104\t0.55991894006729126\t0.50417250394821167\t]\n",
      "  [\t0.31001624464988708\t0.98257887363433838\t0.96445530652999878\t0.44856360554695129\t0.30351385474205017\t]]\n",
      " [[\t0.056208405643701553\t0.80191910266876221\t0.98381251096725464\t0.051062576472759247\t0.23980344831943512\t]\n",
      "  [\t0.10469949245452881\t0.53479683399200439\t0.52140694856643677\t0.32997947931289673\t0.31763806939125061\t]\n",
      "  [\t0.97785842418670654\t0.73508656024932861\t0.95361673831939697\t0.049468204379081726\t0.57253801822662354\t]\n",
      "  [\t0.060845408588647842\t0.81162852048873901\t0.97918641567230225\t0.22582536935806274\t0.40636950731277466\t]]\n",
      " [[\t0.61904627084732056\t0.75455629825592041\t0.91598820686340332\t0.036492243409156799\t0.83057600259780884\t]\n",
      "  [\t0.90364283323287964\t0.1759922057390213\t0.56678283214569092\t0.32818183302879333\t0.39456924796104431\t]\n",
      "  [\t0.46455198526382446\t0.18326835334300995\t0.25749969482421875\t0.61054915189743042\t0.19650378823280334\t]\n",
      "  [\t0.14129260182380676\t0.66934406757354736\t0.80183345079421997\t0.15589584410190582\t0.47142800688743591\t]]]\n",
      "Shape: [3, 4, 5]  DType: float32\n",
      "\n",
      "ndim:  3\n",
      "shape:  Shape: [3, 4, 5]\n",
      "strides:  Stride: [20, 5, 1]\n",
      "size:  60\n",
      "offset:  0\n",
      "dtype:  float32\n"
     ]
    }
   ],
   "source": [
    "\"\"\" \n",
    "Create a 3D array with shape [3,4,5] filled with random values and datatype float32 \n",
    "\"\"\"\n",
    "var arr2 = nj.NDArray[nj.f32](VariadicList[Int](3, 4, 5), random=True) # shape is defined by VariadicList of integers\n",
    "print(arr2)\n",
    "print(\"ndim: \", arr2.ndim)\n",
    "print(\"shape: \", arr2.ndshape)\n",
    "print(\"strides: \", arr2.stride)\n",
    "print(\"size: \", arr2.ndshape._size)\n",
    "print(\"offset: \", arr2.stride._offset)\n",
    "print(\"dtype: \", arr2.dtype)"
   ]
  },
  {
   "cell_type": "code",
   "execution_count": 4,
   "metadata": {},
   "outputs": [
    {
     "name": "stdout",
     "output_type": "stream",
     "text": [
      "\n",
      "[[[[\t10.0\t10.0\t10.0\t]\n",
      "   [\t10.0\t10.0\t10.0\t]\n",
      "   [\t10.0\t10.0\t10.0\t]]\n",
      "  [[\t10.0\t10.0\t10.0\t]\n",
      "   [\t10.0\t10.0\t10.0\t]\n",
      "   [\t10.0\t10.0\t10.0\t]]]\n",
      " [[[\t10.0\t10.0\t10.0\t]\n",
      "   [\t10.0\t10.0\t10.0\t]\n",
      "   [\t10.0\t10.0\t10.0\t]]\n",
      "  [[\t10.0\t10.0\t10.0\t]\n",
      "   [\t10.0\t10.0\t10.0\t]\n",
      "   [\t10.0\t10.0\t10.0\t]]]\n",
      " [[[\t10.0\t10.0\t10.0\t]\n",
      "   [\t10.0\t10.0\t10.0\t]\n",
      "   [\t10.0\t10.0\t10.0\t]]\n",
      "  [[\t10.0\t10.0\t10.0\t]\n",
      "   [\t10.0\t10.0\t10.0\t]\n",
      "   [\t10.0\t10.0\t10.0\t]]]]\n",
      "Shape: [3, 2, 3, 3]  DType: float16\n",
      "\n",
      "ndim:  4\n",
      "shape:  Shape: [3, 2, 3, 3]\n",
      "strides:  Stride: [18, 9, 3, 1]\n",
      "size:  54\n",
      "offset:  0\n",
      "dtype:  float16\n"
     ]
    }
   ],
   "source": [
    "\"\"\" \n",
    "Create a 4D array with shape [3,2,3,3] filled with `10.0` and datatype `float16`\n",
    "\"\"\"\n",
    "var arr3 = nj.NDArray[nj.f16](VariadicList[Int](3, 2, 3, 3), val = 10.0) # shape is given by variadic arguments input\n",
    "print(arr3)\n",
    "print(\"ndim: \", arr3.ndim)\n",
    "print(\"shape: \", arr3.ndshape)\n",
    "print(\"strides: \", arr3.stride)\n",
    "print(\"size: \", arr3.ndshape._size)\n",
    "print(\"offset: \", arr3.stride._offset)\n",
    "print(\"dtype: \", arr3.dtype)"
   ]
  },
  {
   "cell_type": "code",
   "execution_count": 5,
   "metadata": {},
   "outputs": [
    {
     "name": "stdout",
     "output_type": "stream",
     "text": [
      "\n",
      "[[[\t0.25572824478149414\t0.99397772550582886\t0.69876140356063843\t0.84735095500946045\t0.069381296634674072\t]\n",
      "  [\t0.19178609549999237\t0.0081466278061270714\t0.43965303897857666\t0.38961315155029297\t0.13565701246261597\t]\n",
      "  [\t0.24923117458820343\t0.46139180660247803\t0.69838911294937134\t0.20685668289661407\t0.18226176500320435\t]\n",
      "  [\t0.39439275860786438\t0.14246232807636261\t0.71565151214599609\t0.4731195867061615\t0.36171996593475342\t]]\n",
      " [[\t0.0003100007597822696\t0.97210872173309326\t0.24259711802005768\t0.65427970886230469\t0.94020050764083862\t]\n",
      "  [\t0.59625697135925293\t0.90385770797729492\t0.33153152465820312\t0.30404329299926758\t0.67539781332015991\t]\n",
      "  [\t0.4497845470905304\t0.40903237462043762\t0.61830514669418335\t0.74450546503067017\t0.047344740480184555\t]\n",
      "  [\t0.676036536693573\t0.018197929486632347\t0.53467482328414917\t0.93817383050918579\t0.37804445624351501\t]]\n",
      " [[\t0.49231055378913879\t0.67575085163116455\t0.78418821096420288\t0.89368164539337158\t0.72711867094039917\t]\n",
      "  [\t0.32151439785957336\t0.14523701369762421\t0.23718279600143433\t0.2119230329990387\t0.21550330519676208\t]\n",
      "  [\t0.57817667722702026\t0.75281596183776855\t0.79023486375808716\t0.13343822956085205\t0.38045492768287659\t]\n",
      "  [\t0.37354955077171326\t0.30452218651771545\t0.64479899406433105\t0.82267773151397705\t0.78278756141662598\t]]]\n",
      "Shape: [3, 4, 5]  DType: float32\n",
      "\n",
      "ndim:  3\n",
      "shape:  Shape: [3, 4, 5]\n",
      "strides:  Stride: [20, 5, 1]\n",
      "size:  60\n",
      "offset:  0\n",
      "dtype:  float32\n"
     ]
    }
   ],
   "source": [
    "\"\"\"\n",
    "Create a 3D array with shape [3,4,5] filled with random values and datatype `float32` \n",
    "\"\"\"\n",
    "var arr4 = nj.NDArray[nj.f32](List[Int](3, 4, 5), random=True) # shape is given by list of integers input\n",
    "print(arr4)\n",
    "print(\"ndim: \", arr4.ndim)\n",
    "print(\"shape: \", arr4.ndshape)\n",
    "print(\"strides: \", arr4.stride)\n",
    "print(\"size: \", arr4.ndshape._size)\n",
    "print(\"offset: \", arr4.stride._offset)\n",
    "print(\"dtype: \", arr4.dtype) "
   ]
  },
  {
   "cell_type": "code",
   "execution_count": 6,
   "metadata": {},
   "outputs": [
    {
     "name": "stdout",
     "output_type": "stream",
     "text": [
      "\n",
      "[[[\t0.52438094186994721\t0.20916010803112517\t0.63402676937898494\t]\n",
      "  [\t0.63956748665558161\t0.73894619524481076\t0.68035440008737746\t]]\n",
      " [[\t0.39940603412038217\t0.007085597954154488\t0.26285183921205274\t]\n",
      "  [\t0.86390089376314927\t0.64420098096525535\t0.62437844997006886\t]]]\n",
      "Shape: [2, 2, 3]  DType: float64\n",
      "\n",
      "ndim:  3\n",
      "shape:  Shape: [2, 2, 3]\n",
      "strides:  Stride: [6, 3, 1]\n",
      "size:  12\n",
      "offset:  0\n",
      "dtype:  float64\n"
     ]
    }
   ],
   "source": [
    "\"\"\"\n",
    "Create a 3D array with shape [2,2,3] filled with random values and datatype `float64` \n",
    "\"\"\"\n",
    "# input is an instance of NDArrayShape created with variadic integer arguments\n",
    "var arr5 = nj.NDArray[nj.f64](nj.NDArrayShape(2,2,3), random=True)\n",
    "print(arr5)\n",
    "print(\"ndim: \", arr5.ndim)\n",
    "print(\"shape: \", arr5.ndshape)\n",
    "print(\"strides: \", arr5.stride)\n",
    "print(\"size: \", arr5.ndshape._size)\n",
    "print(\"offset: \", arr5.stride._offset)\n",
    "print(\"dtype: \", arr5.dtype) "
   ]
  },
  {
   "cell_type": "code",
   "execution_count": 7,
   "metadata": {},
   "outputs": [
    {
     "name": "stdout",
     "output_type": "stream",
     "text": [
      "\n",
      "[[\t1\t2\t3\t4\t5\t]\n",
      " [\t6\t7\t8\t9\t10\t]]\n",
      "Shape: [2, 5]  DType: int16\n",
      "\n",
      "ndim:  2\n",
      "shape:  Shape: [2, 5]\n",
      "strides:  Stride: [5, 1]\n",
      "size:  10\n",
      "offset:  0\n",
      "dtype:  int16\n"
     ]
    }
   ],
   "source": [
    "\"\"\"\n",
    "Create a 2D array with shape [2,5] filled with values [1,2,3,4,5,6,7,8,9,10] and datatype `int16` \n",
    "\"\"\"\n",
    "# input is a list of data to be filled and the corresponding shape\n",
    "var arr6 = nj.NDArray[nj.i16](data=List[SIMD[nj.i16, 1]](1,2,3,4,5,6,7,8,9,10), shape=\n",
    "List[Int](2,5))\n",
    "print(arr6)\n",
    "print(\"ndim: \", arr6.ndim)\n",
    "print(\"shape: \", arr6.ndshape)\n",
    "print(\"strides: \", arr6.stride)\n",
    "print(\"size: \", arr6.ndshape._size)\n",
    "print(\"offset: \", arr6.stride._offset)\n",
    "print(\"dtype: \", arr6.dtype) "
   ]
  },
  {
   "cell_type": "markdown",
   "metadata": {},
   "source": [
    "## Special array creation routines"
   ]
  },
  {
   "cell_type": "code",
   "execution_count": 8,
   "metadata": {},
   "outputs": [
    {
     "name": "stdout",
     "output_type": "stream",
     "text": [
      "\n",
      "[\t0.0\t1.0\t2.0\t...\t57.0\t58.0\t59.0\t]\n",
      "Shape: [60]  DType: float64\n",
      "\n"
     ]
    }
   ],
   "source": [
    "\"\"\"\n",
    "Create an array of 60 elements with values ranging from 0 to 59 and datatype `float32` \n",
    "\"\"\"\n",
    "var x = nj.arange[nj.f32](0.0, 60.0, step=1)\n",
    "print(x)"
   ]
  },
  {
   "cell_type": "code",
   "execution_count": 9,
   "metadata": {},
   "outputs": [
    {
     "name": "stdout",
     "output_type": "stream",
     "text": [
      "\n",
      "[\t0.0\t1.0169491767883301\t2.0338983535766602\t...\t57.966102600097656\t58.983051300048828\t60.0\t]\n",
      "Shape: [60]  DType: float32\n",
      "\n"
     ]
    }
   ],
   "source": [
    "\"\"\"\n",
    "Create an array of 60 linearly spaced values between 0 and 60 \n",
    "and input datatype `int16` and output datatype `float32` including endpoint\n",
    "\"\"\"\n",
    "var x_linspace = nj.linspace[in_dtype=nj.i16, out_dtype=nj.f32](0, 60, num=60, endpoint=True)\n",
    "print(x_linspace)"
   ]
  },
  {
   "cell_type": "code",
   "execution_count": 10,
   "metadata": {},
   "outputs": [
    {
     "name": "stdout",
     "output_type": "stream",
     "text": [
      "error: Couldn't lookup symbols:\n",
      "  exp10"
     ]
    },
    {
     "name": "stderr",
     "output_type": "stream",
     "text": [
      "expression failed to parse (no further compiler diagnostics)"
     ]
    }
   ],
   "source": [
    "\"\"\"\n",
    "Create an array of 60 logarithmic spaced values between 10^-3 and 10^0 and datatype `float32` including endpoint\n",
    "\"\"\"\n",
    "var x_logspace = nj.logspace[in_dtype=nj.f32](-3, 0, num=60, base=10.0, endpoint=True) # out_dtype defaults to float64\n",
    "print(x_logspace)"
   ]
  },
  {
   "cell_type": "code",
   "execution_count": 11,
   "metadata": {},
   "outputs": [
    {
     "name": "stdout",
     "output_type": "stream",
     "text": [
      "\n",
      "[\t1.0\t1.6681005372000588\t2.7825594022071249\t...\t35.938136638046288\t59.948425031894139\t100.00000000000007\t]\n",
      "Shape: [10]  DType: float64\n",
      "\n"
     ]
    }
   ],
   "source": [
    "\"\"\"\n",
    "Create an array of 60 geometric spaced values between 10^-3 and 10^0 and datatype `float32` including endpoint\n",
    "\"\"\"\n",
    "var x_geomspace = nj.geomspace[in_dtype=nj.f32](1, 100, num=10, endpoint=True) # out_dtype defaults to float64\n",
    "print(x_geomspace)"
   ]
  },
  {
   "cell_type": "code",
   "execution_count": 12,
   "metadata": {},
   "outputs": [
    {
     "name": "stdout",
     "output_type": "stream",
     "text": [
      "\n",
      "[[\t1.0\t1.0\t]\n",
      " [\t1.0\t1.0\t]\n",
      " [\t1.0\t1.0\t]]\n",
      "Shape: [3, 2]  DType: float32\n",
      "\n"
     ]
    }
   ],
   "source": [
    "\"\"\"\n",
    "Create an array of ones with shape [3,2] and datatype `float32` \n",
    "\"\"\"\n",
    "var x = numojo.ones[numojo.f32](3, 2)\n",
    "print(x)"
   ]
  },
  {
   "cell_type": "code",
   "execution_count": 13,
   "metadata": {},
   "outputs": [
    {
     "name": "stdout",
     "output_type": "stream",
     "text": [
      "\n",
      "[[\t1.0\t0.0\t0.0\t]\n",
      " [\t0.0\t1.0\t0.0\t]\n",
      " [\t0.0\t0.0\t1.0\t]]\n",
      "Shape: [3, 3]  DType: float32\n",
      "\n"
     ]
    }
   ],
   "source": [
    "\"\"\"\n",
    "Create an array of identity matrix with shape [3,3] and datatype `float32` \n",
    "\"\"\"\n",
    "var x = numojo.identity[numojo.f32](3)\n",
    "print(x)"
   ]
  },
  {
   "cell_type": "code",
   "execution_count": 14,
   "metadata": {},
   "outputs": [
    {
     "name": "stdout",
     "output_type": "stream",
     "text": [
      "\n",
      "[[\t1.0\t0.0\t0.0\t0.0\t]\n",
      " [\t0.0\t1.0\t0.0\t0.0\t]\n",
      " [\t0.0\t0.0\t1.0\t0.0\t]]\n",
      "Shape: [3, 4]  DType: float32\n",
      "\n"
     ]
    }
   ],
   "source": [
    "\"\"\"\n",
    "Create an array of identity matrix with shape [3,3] and datatype `float32` \n",
    "\"\"\"\n",
    "var x = numojo.eye[numojo.f32](3, 4)\n",
    "print(x)"
   ]
  },
  {
   "cell_type": "code",
   "execution_count": 16,
   "metadata": {},
   "outputs": [
    {
     "name": "stdout",
     "output_type": "stream",
     "text": [
      "\n",
      "[[\t0.0\t0.0\t0.0\t0.0\t]\n",
      " [\t0.0\t0.0\t0.0\t0.0\t]\n",
      " [\t0.0\t0.0\t0.0\t0.0\t]]\n",
      "Shape: [3, 4]  DType: float32\n",
      "\n"
     ]
    }
   ],
   "source": [
    "\"\"\"\n",
    "Create an array of zeros with shape [3,4] and datatype `float32` \n",
    "\"\"\"\n",
    "var x = numojo.zeros[numojo.f32](3, 4)\n",
    "# var x = numojo.empty[numojo.f32](3, 4) # does the same as zeros\n",
    "print(x)"
   ]
  },
  {
   "cell_type": "code",
   "execution_count": 17,
   "metadata": {},
   "outputs": [
    {
     "name": "stdout",
     "output_type": "stream",
     "text": [
      "\n",
      "[[\t16.0\t16.0\t]\n",
      " [\t16.0\t16.0\t]\n",
      " [\t16.0\t16.0\t]]\n",
      "Shape: [3, 2]  DType: float32\n",
      "\n"
     ]
    }
   ],
   "source": [
    "\"\"\"\n",
    "Create an array of shape [3,2] filled with value `16` and datatype `float32` \n",
    "\"\"\"\n",
    "var x = numojo.full[numojo.f32](3, 2, fill_value=16.0)\n",
    "print(x)"
   ]
  },
  {
   "cell_type": "markdown",
   "metadata": {},
   "source": [
    "# ARRAY MANIPULATION ROUTINES"
   ]
  },
  {
   "cell_type": "code",
   "execution_count": 11,
   "metadata": {},
   "outputs": [
    {
     "name": "stdout",
     "output_type": "stream",
     "text": [
      "\n",
      "[\t0.0\t1.0\t2.0\t...\t57.0\t58.0\t59.0\t]\n",
      "Shape: [60]  DType: float32\n",
      "\n",
      "\n",
      "[[[\t0.0\t1.0\t2.0\t3.0\t4.0\t]\n",
      "  [\t5.0\t6.0\t7.0\t8.0\t9.0\t]\n",
      "  [\t10.0\t11.0\t12.0\t13.0\t14.0\t]\n",
      "  [\t15.0\t16.0\t17.0\t18.0\t19.0\t]]\n",
      " [[\t20.0\t21.0\t22.0\t23.0\t24.0\t]\n",
      "  [\t25.0\t26.0\t27.0\t28.0\t29.0\t]\n",
      "  [\t30.0\t31.0\t32.0\t33.0\t34.0\t]\n",
      "  [\t35.0\t36.0\t37.0\t38.0\t39.0\t]]\n",
      " [[\t40.0\t41.0\t42.0\t43.0\t44.0\t]\n",
      "  [\t45.0\t46.0\t47.0\t48.0\t49.0\t]\n",
      "  [\t50.0\t51.0\t52.0\t53.0\t54.0\t]\n",
      "  [\t55.0\t56.0\t57.0\t58.0\t59.0\t]]]\n",
      "Shape: [3, 4, 5]  DType: float32\n",
      "\n"
     ]
    }
   ],
   "source": [
    "var array = nj.arange[in_dtype=nj.i16, out_dtype=nj.f32](0, 60, step=1)\n",
    "print(array)\n",
    "array.reshape(3, 4, 5)\n",
    "print(array)"
   ]
  },
  {
   "cell_type": "markdown",
   "metadata": {},
   "source": [
    "# ARITHMETICS"
   ]
  },
  {
   "cell_type": "code",
   "execution_count": 8,
   "metadata": {},
   "outputs": [
    {
     "name": "stdout",
     "output_type": "stream",
     "text": [
      "\n",
      "[[\t1.3467652797698975\t0.65440917015075684\t]\n",
      " [\t0.64479684829711914\t0.75844413042068481\t]\n",
      " [\t1.2625243663787842\t1.1411203145980835\t]]\n",
      "Shape: [3, 2]  DType: float32\n",
      "\n",
      "\n",
      "[[\t0.45344364643096924\t0.039201896637678146\t]\n",
      " [\t0.099400140345096588\t0.098088927567005157\t]\n",
      " [\t0.26922139525413513\t0.23549149930477142\t]]\n",
      "Shape: [3, 2]  DType: float32\n",
      "\n",
      "\n",
      "[[\t1.0021706819534302\t0.11349767446517944\t]\n",
      " [\t1.5284725427627563\t0.27889707684516907\t]\n",
      " [\t3.6464157104492188\t3.2188529968261719\t]]\n",
      "Shape: [3, 2]  DType: float32\n",
      "\n",
      "\n",
      "[[\t0.781261146068573\t0.99777615070343018\t]\n",
      " [\t0.92499172687530518\t0.98635280132293701\t]\n",
      " [\t0.54801732301712036\t0.64433789253234863\t]]\n",
      "Shape: [3, 2]  DType: float32\n",
      "\n"
     ]
    }
   ],
   "source": [
    "\n",
    "var x1 = nj.NDArray[nj.f32](3, 2, random=True)\n",
    "var x2 = nj.NDArray[nj.f32](3, 2, random=True)\n",
    "var sum_x1_x2 = nj.add[nj.f32, backend=nj.Vectorized](x1, x2)\n",
    "# var sum_x1_x2 = x1 + x2 # does the same but with vectorized as default\n",
    "print(sum_x1_x2)\n",
    "\n",
    "var mul_x1_x2 = nj.mul[nj.f32, backend=nj.VectorizedParallelized](x1, x2)\n",
    "# var mul_x1_x2 = x1 * x2 # does the same but with vectorized as default\n",
    "print(mul_x1_x2)\n",
    "\n",
    "var div_x1_x2 = nj.div[nj.f32, backend=nj.VectorizedUnroll[1]](x1, x2) # unroll factor is 1 here\n",
    "# var div_x1_x2 = x1 / x2 # does the same but with vectorized as default\n",
    "print(div_x1_x2)\n",
    "\n",
    "var cos_x1 = nj.cos[nj.f32, backend=nj.Vectorized](x1)\n",
    "print(cos_x1)"
   ]
  },
  {
   "cell_type": "markdown",
   "metadata": {},
   "source": [
    "# STATISTICS"
   ]
  },
  {
   "cell_type": "code",
   "execution_count": 15,
   "metadata": {},
   "outputs": [
    {
     "name": "stdout",
     "output_type": "stream",
     "text": [
      "\n",
      "[[\t1.0\t2.0\t3.0\t4.0\t5.0\t]\n",
      " [\t6.0\t7.0\t8.0\t9.0\t10.0\t]\n",
      " [\t11.0\t12.0\t13.0\t14.0\t15.0\t]\n",
      " [\t16.0\t17.0\t18.0\t19.0\t20.0\t]]\n",
      "Shape: [4, 5]  DType: float32\n",
      "\n",
      "cumulative sum:  210.0\n",
      "cumulative product:  2.43290200817664e+18\n",
      "cumulative mean:  10.5\n",
      "cumulative var:  35.0\n",
      "cumulative std:  5.9160797830996161\n",
      "cumulative var:  33.25\n",
      "cumulative pstdev:  5.7662812973353983\n"
     ]
    }
   ],
   "source": [
    "var array_stats = nj.arange[in_dtype=nj.i16, out_dtype=nj.f32](1, 21, step=1)\n",
    "array_stats.reshape(4, 5)\n",
    "print(array_stats)\n",
    "\n",
    "var cumsum_array_stats = nj.math.statistics.cumsum[in_dtype=nj.f32, out_dtype=nj.f32](array_stats) # cumulative sum of the flattened array\n",
    "print(\"cumulative sum: \", cumsum_array_stats)\n",
    "\n",
    "var cumprod_array_stats = nj.math.statistics.cumprod[in_dtype=nj.f32, out_dtype=nj.f64](array_stats) # cumulative product of the flattened array\n",
    "print(\"cumulative product: \", cumprod_array_stats)\n",
    "\n",
    "var cummean_array_stats = nj.math.statistics.cummean[in_dtype=nj.f32, out_dtype=nj.f64](array_stats) # cumulative mean of the flattened array\n",
    "print(\"cumulative mean: \", cummean_array_stats)\n",
    "\n",
    "var cumvar_array_stats = nj.math.statistics.cumvariance[in_dtype=nj.f32, out_dtype=nj.f64](array_stats) # cumulative variance of the flattened array\n",
    "print(\"cumulative var: \", cumvar_array_stats)\n",
    "\n",
    "var cumstd_array_stats = nj.math.statistics.stdev[in_dtype=nj.f32, out_dtype=nj.f64](array_stats) # cumulative standard deviation of the flattened array\n",
    "print(\"cumulative std: \", cumstd_array_stats)\n",
    "\n",
    "var cumprodvar_array_stats = nj.math.statistics.cumpvariance[in_dtype=nj.f32, out_dtype=nj.f64](array_stats) # cumulative product variance of the flattened array\n",
    "print(\"cumulative var: \", cumprodvar_array_stats)\n",
    "\n",
    "var pstdev_array_stats = nj.math.statistics.cumpstdev[in_dtype=nj.f32, out_dtype=nj.f64](array_stats) # product standard deviation of the flattened array\n",
    "print(\"cumulative pstdev: \", pstdev_array_stats)"
   ]
  },
  {
   "cell_type": "code",
   "execution_count": null,
   "metadata": {},
   "outputs": [],
   "source": []
  }
 ],
 "metadata": {
  "kernelspec": {
   "display_name": "Mojo",
   "language": "mojo",
   "name": "mojo-jupyter-kernel"
  },
  "language_info": {
   "codemirror_mode": {
    "name": "mojo"
   },
   "file_extension": ".mojo",
   "mimetype": "text/x-mojo",
   "name": "mojo"
  }
 },
 "nbformat": 4,
 "nbformat_minor": 2
}
